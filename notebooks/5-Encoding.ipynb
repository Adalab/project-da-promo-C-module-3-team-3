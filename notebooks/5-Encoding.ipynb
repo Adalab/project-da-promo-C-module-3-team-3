{
 "cells": [
  {
   "cell_type": "markdown",
   "metadata": {},
   "source": [
    "## Encoding"
   ]
  },
  {
   "attachments": {},
   "cell_type": "markdown",
   "metadata": {},
   "source": [
    "### 1. Importamos las librerías necesarias."
   ]
  },
  {
   "cell_type": "code",
   "execution_count": 33,
   "metadata": {},
   "outputs": [],
   "source": [
    "# Tratamiento de datos\n",
    "import pandas as pd\n",
    "import numpy as np\n",
    "\n",
    "# Herramientas para la Visualización\n",
    "import seaborn as sns\n",
    "import matplotlib.pyplot as plt\n",
    "from matplotlib import colors\n",
    "\n",
    "# Codificación de las variables numéricas\n",
    "from sklearn.preprocessing import LabelEncoder \n",
    "from sklearn.preprocessing import OneHotEncoder \n",
    "\n",
    "# Configuración warnings\n",
    "import warnings\n",
    "warnings.filterwarnings('ignore')\n",
    "\n",
    "# Fijar medida y color de las gráficas\n",
    "plt.rcParams[\"figure.figsize\"] = (10,6)\n",
    "#sns.set_palette('PuBuGn', 9) ---> revisar"
   ]
  },
  {
   "attachments": {},
   "cell_type": "markdown",
   "metadata": {},
   "source": [
    "### 2. Abrimos el archivo estandarizado, para ejecutar la codificación."
   ]
  },
  {
   "cell_type": "code",
   "execution_count": 34,
   "metadata": {},
   "outputs": [
    {
     "data": {
      "text/html": [
       "<div>\n",
       "<style scoped>\n",
       "    .dataframe tbody tr th:only-of-type {\n",
       "        vertical-align: middle;\n",
       "    }\n",
       "\n",
       "    .dataframe tbody tr th {\n",
       "        vertical-align: top;\n",
       "    }\n",
       "\n",
       "    .dataframe thead th {\n",
       "        text-align: right;\n",
       "    }\n",
       "</style>\n",
       "<table border=\"1\" class=\"dataframe\">\n",
       "  <thead>\n",
       "    <tr style=\"text-align: right;\">\n",
       "      <th></th>\n",
       "      <th>fecha</th>\n",
       "      <th>estacion</th>\n",
       "      <th>año</th>\n",
       "      <th>mes</th>\n",
       "      <th>dia_semana</th>\n",
       "      <th>dias_festivos</th>\n",
       "      <th>temperatura</th>\n",
       "      <th>humedad</th>\n",
       "      <th>velocidad_viento</th>\n",
       "      <th>clientes_casuales</th>\n",
       "      <th>clientes_registrados</th>\n",
       "      <th>total_bicis</th>\n",
       "    </tr>\n",
       "  </thead>\n",
       "  <tbody>\n",
       "    <tr>\n",
       "      <th>0</th>\n",
       "      <td>2018-01-01</td>\n",
       "      <td>invierno</td>\n",
       "      <td>0</td>\n",
       "      <td>1</td>\n",
       "      <td>lunes</td>\n",
       "      <td>New Year's Day</td>\n",
       "      <td>-0.486274</td>\n",
       "      <td>0.855582</td>\n",
       "      <td>-0.208909</td>\n",
       "      <td>331</td>\n",
       "      <td>654</td>\n",
       "      <td>985</td>\n",
       "    </tr>\n",
       "    <tr>\n",
       "      <th>1</th>\n",
       "      <td>2018-01-02</td>\n",
       "      <td>invierno</td>\n",
       "      <td>0</td>\n",
       "      <td>1</td>\n",
       "      <td>martes</td>\n",
       "      <td>No Festivo</td>\n",
       "      <td>-0.425690</td>\n",
       "      <td>0.332722</td>\n",
       "      <td>0.687550</td>\n",
       "      <td>131</td>\n",
       "      <td>670</td>\n",
       "      <td>801</td>\n",
       "    </tr>\n",
       "  </tbody>\n",
       "</table>\n",
       "</div>"
      ],
      "text/plain": [
       "        fecha  estacion  año  mes dia_semana   dias_festivos  temperatura  \\\n",
       "0  2018-01-01  invierno    0    1      lunes  New Year's Day    -0.486274   \n",
       "1  2018-01-02  invierno    0    1     martes      No Festivo    -0.425690   \n",
       "\n",
       "    humedad  velocidad_viento  clientes_casuales  clientes_registrados  \\\n",
       "0  0.855582         -0.208909                331                   654   \n",
       "1  0.332722          0.687550                131                   670   \n",
       "\n",
       "   total_bicis  \n",
       "0          985  \n",
       "1          801  "
      ]
     },
     "execution_count": 34,
     "metadata": {},
     "output_type": "execute_result"
    }
   ],
   "source": [
    "df = pd.read_csv(\"../archivos/bikes_stand.csv\", index_col = 0)\n",
    "df.head(2)"
   ]
  },
  {
   "attachments": {},
   "cell_type": "markdown",
   "metadata": {},
   "source": [
    "### 3. Orden e importancia de las variables que queremos codificar."
   ]
  },
  {
   "attachments": {},
   "cell_type": "markdown",
   "metadata": {},
   "source": [
    "- fecha: tenemos la información de los días en otras columnas más específicas, por lo que no vamos a utilizarla para la predicción.\n",
    "\n",
    "- mes: no tiene mucha correlación con nuestra variable repuesta, y encima tenemos esa información mejor categorizada en la variable estación.\n",
    "\n",
    "\n",
    "- estación: tiene orden ---> verano:3, primavera:2, otoño:1, invierno:0\n",
    "\n",
    "- año: tiene orden ---> 2018:0 y 2019:1\n",
    "\n",
    "- dia_semana: no tiene orden\n",
    "\n",
    "- dias_festivos: tiene orden --- > festivos:1 , no festivos:0 (si que hay más alquiler de bicicletas en días festivos y entre los días festivos hay diferencias)."
   ]
  },
  {
   "attachments": {},
   "cell_type": "markdown",
   "metadata": {},
   "source": [
    "### Variable estaciones"
   ]
  },
  {
   "cell_type": "code",
   "execution_count": 35,
   "metadata": {},
   "outputs": [],
   "source": [
    "df_estaciones = pd.DataFrame(df.groupby(df['estacion'])['total_bicis'].sum())"
   ]
  },
  {
   "cell_type": "code",
   "execution_count": 36,
   "metadata": {},
   "outputs": [],
   "source": [
    "df_estaciones.reset_index(inplace=True)"
   ]
  },
  {
   "cell_type": "code",
   "execution_count": 37,
   "metadata": {},
   "outputs": [
    {
     "data": {
      "image/png": "[encoded data removed]",
      "text/plain": [
       "<Figure size 720x432 with 1 Axes>"
      ]
     },
     "metadata": {
      "needs_background": "light"
     },
     "output_type": "display_data"
    }
   ],
   "source": [
    "sns.barplot(y= 'total_bicis', x= 'estacion', data= df_estaciones, palette='PuBuGn');"
   ]
  },
  {
   "attachments": {},
   "cell_type": "markdown",
   "metadata": {},
   "source": [
    "### Variable año"
   ]
  },
  {
   "cell_type": "code",
   "execution_count": 38,
   "metadata": {},
   "outputs": [],
   "source": [
    "df_año = pd.DataFrame(df.groupby(df['año'])['total_bicis'].sum())"
   ]
  },
  {
   "cell_type": "code",
   "execution_count": 39,
   "metadata": {},
   "outputs": [],
   "source": [
    "df_año.reset_index(inplace=True)"
   ]
  },
  {
   "cell_type": "code",
   "execution_count": 40,
   "metadata": {},
   "outputs": [
    {
     "data": {
      "image/png": "[encoded data removed]",
      "text/plain": [
       "<Figure size 720x432 with 1 Axes>"
      ]
     },
     "metadata": {
      "needs_background": "light"
     },
     "output_type": "display_data"
    }
   ],
   "source": [
    "sns.barplot(y= 'total_bicis', x= 'año', data= df_año, palette='PuBuGn');"
   ]
  },
  {
   "attachments": {},
   "cell_type": "markdown",
   "metadata": {},
   "source": [
    "Hay más alquiler de bicicletas en el año 2019, por ahora dejamos el encoding de la misma manera--> 2018:0 y 2019:1 "
   ]
  },
  {
   "attachments": {},
   "cell_type": "markdown",
   "metadata": {},
   "source": [
    "### Variable mes"
   ]
  },
  {
   "cell_type": "code",
   "execution_count": 41,
   "metadata": {},
   "outputs": [],
   "source": [
    "df_mes = pd.DataFrame(df.groupby(df['mes'])['total_bicis'].sum())"
   ]
  },
  {
   "cell_type": "code",
   "execution_count": 42,
   "metadata": {},
   "outputs": [],
   "source": [
    "df_mes.reset_index(inplace=True)"
   ]
  },
  {
   "cell_type": "code",
   "execution_count": 43,
   "metadata": {},
   "outputs": [
    {
     "data": {
      "image/png": "[encoded data removed]",
      "text/plain": [
       "<Figure size 720x432 with 1 Axes>"
      ]
     },
     "metadata": {
      "needs_background": "light"
     },
     "output_type": "display_data"
    }
   ],
   "source": [
    "sns.barplot(y= 'total_bicis', x= 'mes', data= df_mes, palette='PuBuGn');"
   ]
  },
  {
   "attachments": {},
   "cell_type": "markdown",
   "metadata": {},
   "source": [
    "Se observan patrones similares a la variable estaciones, habiendo más alquileres de bicicletas desde mayo hasta octubre."
   ]
  },
  {
   "attachments": {},
   "cell_type": "markdown",
   "metadata": {},
   "source": [
    "### Variable días"
   ]
  },
  {
   "cell_type": "code",
   "execution_count": 44,
   "metadata": {},
   "outputs": [],
   "source": [
    "df_dias = pd.DataFrame(df.groupby(df['dia_semana'])['total_bicis'].sum())"
   ]
  },
  {
   "cell_type": "code",
   "execution_count": 45,
   "metadata": {},
   "outputs": [],
   "source": [
    "df_dias.reset_index(inplace=True)"
   ]
  },
  {
   "cell_type": "code",
   "execution_count": 46,
   "metadata": {},
   "outputs": [
    {
     "data": {
      "image/png": "[encoded data removed]",
      "text/plain": [
       "<Figure size 720x432 with 1 Axes>"
      ]
     },
     "metadata": {
      "needs_background": "light"
     },
     "output_type": "display_data"
    }
   ],
   "source": [
    "sns.barplot(y= 'total_bicis', x= 'dia_semana', data= df_dias, palette = 'PuBuGn');"
   ]
  },
  {
   "attachments": {},
   "cell_type": "markdown",
   "metadata": {},
   "source": [
    "No se observa que haya días más importantes que otros por lo que no tendría orden a la hora del encoding"
   ]
  },
  {
   "attachments": {},
   "cell_type": "markdown",
   "metadata": {},
   "source": [
    "### 4. Encoding de variables que no tienen orden."
   ]
  },
  {
   "cell_type": "code",
   "execution_count": 47,
   "metadata": {},
   "outputs": [],
   "source": [
    "lista_columnas = [\"dia_semana\",'mes']\n",
    "\n",
    "df_encoded = pd.DataFrame()\n",
    "\n",
    "\n",
    "for columna in lista_columnas:\n",
    "    df_dummies = pd.get_dummies(df[columna], prefix_sep = \"_\", prefix = columna, dtype = int)\n",
    "\n",
    "    df_encoded = pd.concat([df_encoded, df_dummies], axis = 1)"
   ]
  },
  {
   "cell_type": "code",
   "execution_count": 48,
   "metadata": {},
   "outputs": [
    {
     "data": {
      "text/html": [
       "<div>\n",
       "<style scoped>\n",
       "    .dataframe tbody tr th:only-of-type {\n",
       "        vertical-align: middle;\n",
       "    }\n",
       "\n",
       "    .dataframe tbody tr th {\n",
       "        vertical-align: top;\n",
       "    }\n",
       "\n",
       "    .dataframe thead th {\n",
       "        text-align: right;\n",
       "    }\n",
       "</style>\n",
       "<table border=\"1\" class=\"dataframe\">\n",
       "  <thead>\n",
       "    <tr style=\"text-align: right;\">\n",
       "      <th></th>\n",
       "      <th>dia_semana_domingo</th>\n",
       "      <th>dia_semana_jueves</th>\n",
       "      <th>dia_semana_lunes</th>\n",
       "      <th>dia_semana_martes</th>\n",
       "      <th>dia_semana_miercoles</th>\n",
       "      <th>dia_semana_sabado</th>\n",
       "      <th>dia_semana_viernes</th>\n",
       "      <th>mes_1</th>\n",
       "      <th>mes_2</th>\n",
       "      <th>mes_3</th>\n",
       "      <th>mes_4</th>\n",
       "      <th>mes_5</th>\n",
       "      <th>mes_6</th>\n",
       "      <th>mes_7</th>\n",
       "      <th>mes_8</th>\n",
       "      <th>mes_9</th>\n",
       "      <th>mes_10</th>\n",
       "      <th>mes_11</th>\n",
       "      <th>mes_12</th>\n",
       "    </tr>\n",
       "  </thead>\n",
       "  <tbody>\n",
       "    <tr>\n",
       "      <th>0</th>\n",
       "      <td>0</td>\n",
       "      <td>0</td>\n",
       "      <td>1</td>\n",
       "      <td>0</td>\n",
       "      <td>0</td>\n",
       "      <td>0</td>\n",
       "      <td>0</td>\n",
       "      <td>1</td>\n",
       "      <td>0</td>\n",
       "      <td>0</td>\n",
       "      <td>0</td>\n",
       "      <td>0</td>\n",
       "      <td>0</td>\n",
       "      <td>0</td>\n",
       "      <td>0</td>\n",
       "      <td>0</td>\n",
       "      <td>0</td>\n",
       "      <td>0</td>\n",
       "      <td>0</td>\n",
       "    </tr>\n",
       "    <tr>\n",
       "      <th>1</th>\n",
       "      <td>0</td>\n",
       "      <td>0</td>\n",
       "      <td>0</td>\n",
       "      <td>1</td>\n",
       "      <td>0</td>\n",
       "      <td>0</td>\n",
       "      <td>0</td>\n",
       "      <td>1</td>\n",
       "      <td>0</td>\n",
       "      <td>0</td>\n",
       "      <td>0</td>\n",
       "      <td>0</td>\n",
       "      <td>0</td>\n",
       "      <td>0</td>\n",
       "      <td>0</td>\n",
       "      <td>0</td>\n",
       "      <td>0</td>\n",
       "      <td>0</td>\n",
       "      <td>0</td>\n",
       "    </tr>\n",
       "  </tbody>\n",
       "</table>\n",
       "</div>"
      ],
      "text/plain": [
       "   dia_semana_domingo  dia_semana_jueves  dia_semana_lunes  dia_semana_martes  \\\n",
       "0                   0                  0                 1                  0   \n",
       "1                   0                  0                 0                  1   \n",
       "\n",
       "   dia_semana_miercoles  dia_semana_sabado  dia_semana_viernes  mes_1  mes_2  \\\n",
       "0                     0                  0                   0      1      0   \n",
       "1                     0                  0                   0      1      0   \n",
       "\n",
       "   mes_3  mes_4  mes_5  mes_6  mes_7  mes_8  mes_9  mes_10  mes_11  mes_12  \n",
       "0      0      0      0      0      0      0      0       0       0       0  \n",
       "1      0      0      0      0      0      0      0       0       0       0  "
      ]
     },
     "execution_count": 48,
     "metadata": {},
     "output_type": "execute_result"
    }
   ],
   "source": [
    "df_encoded.head(2)"
   ]
  },
  {
   "cell_type": "code",
   "execution_count": 49,
   "metadata": {},
   "outputs": [],
   "source": [
    "df_codificado = pd.concat([df, df_encoded], axis=1)"
   ]
  },
  {
   "attachments": {},
   "cell_type": "markdown",
   "metadata": {},
   "source": [
    "### 5. Encoding de variables con orden."
   ]
  },
  {
   "cell_type": "code",
   "execution_count": 50,
   "metadata": {},
   "outputs": [],
   "source": [
    "# Definimos los mapas de las variables que queremos codificar\n",
    "\n",
    "mapa_estacion= {\"verano\":6, \"primavera\":4, \"otoño\":1, \"invierno\":0}\n",
    "\n",
    "mapa_dias_festivos= {\"New Year's Day\": 1, \n",
    "                    'Martin Luther King Jr. Day': 1,\n",
    "                    \"Washington's Birthday\": 1, \n",
    "                    'Memorial Day': 1, \n",
    "                    'Independence Day': 1,\n",
    "                    'Labor Day': 1, \n",
    "                    'Columbus Day': 1, \n",
    "                    'Veterans Day': 1,\n",
    "                    'Veterans Day (Observed)': 1, \n",
    "                    'Thanksgiving': 1, \n",
    "                    'Christmas Day': 1, \n",
    "                    'No Festivo': 0}"
   ]
  },
  {
   "cell_type": "code",
   "execution_count": 51,
   "metadata": {},
   "outputs": [],
   "source": [
    "df_codificado['estacion'] = df_codificado['estacion'].map(mapa_estacion)\n",
    "df_codificado['dias_festivos'] = df_codificado['dias_festivos'].map(mapa_dias_festivos)"
   ]
  },
  {
   "cell_type": "markdown",
   "metadata": {},
   "source": [
    "#### 6. Eliminamos las columnas que no vamos a utilizar."
   ]
  },
  {
   "cell_type": "code",
   "execution_count": 52,
   "metadata": {},
   "outputs": [],
   "source": [
    "df_codificado.drop(['año','fecha', 'mes', 'dia_semana'], axis=1, inplace=True)"
   ]
  },
  {
   "cell_type": "code",
   "execution_count": 53,
   "metadata": {},
   "outputs": [
    {
     "data": {
      "text/html": [
       "<div>\n",
       "<style scoped>\n",
       "    .dataframe tbody tr th:only-of-type {\n",
       "        vertical-align: middle;\n",
       "    }\n",
       "\n",
       "    .dataframe tbody tr th {\n",
       "        vertical-align: top;\n",
       "    }\n",
       "\n",
       "    .dataframe thead th {\n",
       "        text-align: right;\n",
       "    }\n",
       "</style>\n",
       "<table border=\"1\" class=\"dataframe\">\n",
       "  <thead>\n",
       "    <tr style=\"text-align: right;\">\n",
       "      <th></th>\n",
       "      <th>estacion</th>\n",
       "      <th>dias_festivos</th>\n",
       "      <th>temperatura</th>\n",
       "      <th>humedad</th>\n",
       "      <th>velocidad_viento</th>\n",
       "      <th>clientes_casuales</th>\n",
       "      <th>clientes_registrados</th>\n",
       "      <th>total_bicis</th>\n",
       "      <th>dia_semana_domingo</th>\n",
       "      <th>dia_semana_jueves</th>\n",
       "      <th>...</th>\n",
       "      <th>mes_3</th>\n",
       "      <th>mes_4</th>\n",
       "      <th>mes_5</th>\n",
       "      <th>mes_6</th>\n",
       "      <th>mes_7</th>\n",
       "      <th>mes_8</th>\n",
       "      <th>mes_9</th>\n",
       "      <th>mes_10</th>\n",
       "      <th>mes_11</th>\n",
       "      <th>mes_12</th>\n",
       "    </tr>\n",
       "  </thead>\n",
       "  <tbody>\n",
       "    <tr>\n",
       "      <th>0</th>\n",
       "      <td>0</td>\n",
       "      <td>1</td>\n",
       "      <td>-0.486274</td>\n",
       "      <td>0.855582</td>\n",
       "      <td>-0.208909</td>\n",
       "      <td>331</td>\n",
       "      <td>654</td>\n",
       "      <td>985</td>\n",
       "      <td>0</td>\n",
       "      <td>0</td>\n",
       "      <td>...</td>\n",
       "      <td>0</td>\n",
       "      <td>0</td>\n",
       "      <td>0</td>\n",
       "      <td>0</td>\n",
       "      <td>0</td>\n",
       "      <td>0</td>\n",
       "      <td>0</td>\n",
       "      <td>0</td>\n",
       "      <td>0</td>\n",
       "      <td>0</td>\n",
       "    </tr>\n",
       "    <tr>\n",
       "      <th>1</th>\n",
       "      <td>0</td>\n",
       "      <td>0</td>\n",
       "      <td>-0.425690</td>\n",
       "      <td>0.332722</td>\n",
       "      <td>0.687550</td>\n",
       "      <td>131</td>\n",
       "      <td>670</td>\n",
       "      <td>801</td>\n",
       "      <td>0</td>\n",
       "      <td>0</td>\n",
       "      <td>...</td>\n",
       "      <td>0</td>\n",
       "      <td>0</td>\n",
       "      <td>0</td>\n",
       "      <td>0</td>\n",
       "      <td>0</td>\n",
       "      <td>0</td>\n",
       "      <td>0</td>\n",
       "      <td>0</td>\n",
       "      <td>0</td>\n",
       "      <td>0</td>\n",
       "    </tr>\n",
       "    <tr>\n",
       "      <th>2</th>\n",
       "      <td>0</td>\n",
       "      <td>0</td>\n",
       "      <td>-0.949970</td>\n",
       "      <td>-0.900337</td>\n",
       "      <td>0.685210</td>\n",
       "      <td>120</td>\n",
       "      <td>1229</td>\n",
       "      <td>1349</td>\n",
       "      <td>0</td>\n",
       "      <td>0</td>\n",
       "      <td>...</td>\n",
       "      <td>0</td>\n",
       "      <td>0</td>\n",
       "      <td>0</td>\n",
       "      <td>0</td>\n",
       "      <td>0</td>\n",
       "      <td>0</td>\n",
       "      <td>0</td>\n",
       "      <td>0</td>\n",
       "      <td>0</td>\n",
       "      <td>0</td>\n",
       "    </tr>\n",
       "    <tr>\n",
       "      <th>3</th>\n",
       "      <td>0</td>\n",
       "      <td>0</td>\n",
       "      <td>-0.938563</td>\n",
       "      <td>-0.170632</td>\n",
       "      <td>-0.210435</td>\n",
       "      <td>108</td>\n",
       "      <td>1454</td>\n",
       "      <td>1562</td>\n",
       "      <td>0</td>\n",
       "      <td>1</td>\n",
       "      <td>...</td>\n",
       "      <td>0</td>\n",
       "      <td>0</td>\n",
       "      <td>0</td>\n",
       "      <td>0</td>\n",
       "      <td>0</td>\n",
       "      <td>0</td>\n",
       "      <td>0</td>\n",
       "      <td>0</td>\n",
       "      <td>0</td>\n",
       "      <td>0</td>\n",
       "    </tr>\n",
       "    <tr>\n",
       "      <th>4</th>\n",
       "      <td>0</td>\n",
       "      <td>0</td>\n",
       "      <td>-0.853992</td>\n",
       "      <td>-0.901843</td>\n",
       "      <td>0.060294</td>\n",
       "      <td>82</td>\n",
       "      <td>1518</td>\n",
       "      <td>1600</td>\n",
       "      <td>0</td>\n",
       "      <td>0</td>\n",
       "      <td>...</td>\n",
       "      <td>0</td>\n",
       "      <td>0</td>\n",
       "      <td>0</td>\n",
       "      <td>0</td>\n",
       "      <td>0</td>\n",
       "      <td>0</td>\n",
       "      <td>0</td>\n",
       "      <td>0</td>\n",
       "      <td>0</td>\n",
       "      <td>0</td>\n",
       "    </tr>\n",
       "  </tbody>\n",
       "</table>\n",
       "<p>5 rows × 27 columns</p>\n",
       "</div>"
      ],
      "text/plain": [
       "   estacion  dias_festivos  temperatura   humedad  velocidad_viento  \\\n",
       "0         0              1    -0.486274  0.855582         -0.208909   \n",
       "1         0              0    -0.425690  0.332722          0.687550   \n",
       "2         0              0    -0.949970 -0.900337          0.685210   \n",
       "3         0              0    -0.938563 -0.170632         -0.210435   \n",
       "4         0              0    -0.853992 -0.901843          0.060294   \n",
       "\n",
       "   clientes_casuales  clientes_registrados  total_bicis  dia_semana_domingo  \\\n",
       "0                331                   654          985                   0   \n",
       "1                131                   670          801                   0   \n",
       "2                120                  1229         1349                   0   \n",
       "3                108                  1454         1562                   0   \n",
       "4                 82                  1518         1600                   0   \n",
       "\n",
       "   dia_semana_jueves  ...  mes_3  mes_4  mes_5  mes_6  mes_7  mes_8  mes_9  \\\n",
       "0                  0  ...      0      0      0      0      0      0      0   \n",
       "1                  0  ...      0      0      0      0      0      0      0   \n",
       "2                  0  ...      0      0      0      0      0      0      0   \n",
       "3                  1  ...      0      0      0      0      0      0      0   \n",
       "4                  0  ...      0      0      0      0      0      0      0   \n",
       "\n",
       "   mes_10  mes_11  mes_12  \n",
       "0       0       0       0  \n",
       "1       0       0       0  \n",
       "2       0       0       0  \n",
       "3       0       0       0  \n",
       "4       0       0       0  \n",
       "\n",
       "[5 rows x 27 columns]"
      ]
     },
     "execution_count": 53,
     "metadata": {},
     "output_type": "execute_result"
    }
   ],
   "source": [
    "df_codificado.head()"
   ]
  },
  {
   "cell_type": "code",
   "execution_count": 54,
   "metadata": {},
   "outputs": [],
   "source": [
    "df_codificado.to_csv('../archivos/est_cod_bikes.csv')"
   ]
  },
  {
   "cell_type": "markdown",
   "metadata": {},
   "source": [
    "7. Hacemos la versión sólo de codificada, abriendo el archivo sin estandarizar."
   ]
  },
  {
   "cell_type": "code",
   "execution_count": 55,
   "metadata": {},
   "outputs": [
    {
     "data": {
      "text/html": [
       "<div>\n",
       "<style scoped>\n",
       "    .dataframe tbody tr th:only-of-type {\n",
       "        vertical-align: middle;\n",
       "    }\n",
       "\n",
       "    .dataframe tbody tr th {\n",
       "        vertical-align: top;\n",
       "    }\n",
       "\n",
       "    .dataframe thead th {\n",
       "        text-align: right;\n",
       "    }\n",
       "</style>\n",
       "<table border=\"1\" class=\"dataframe\">\n",
       "  <thead>\n",
       "    <tr style=\"text-align: right;\">\n",
       "      <th></th>\n",
       "      <th>fecha</th>\n",
       "      <th>estacion</th>\n",
       "      <th>año</th>\n",
       "      <th>mes</th>\n",
       "      <th>dias_festivos</th>\n",
       "      <th>temperatura</th>\n",
       "      <th>humedad</th>\n",
       "      <th>velocidad_viento</th>\n",
       "      <th>clientes_casuales</th>\n",
       "      <th>clientes_registrados</th>\n",
       "      <th>total_bicis</th>\n",
       "      <th>dia_semana</th>\n",
       "    </tr>\n",
       "  </thead>\n",
       "  <tbody>\n",
       "    <tr>\n",
       "      <th>0</th>\n",
       "      <td>2018-01-01</td>\n",
       "      <td>invierno</td>\n",
       "      <td>0</td>\n",
       "      <td>1</td>\n",
       "      <td>New Year's Day</td>\n",
       "      <td>14.110847</td>\n",
       "      <td>80.5833</td>\n",
       "      <td>10.749882</td>\n",
       "      <td>331</td>\n",
       "      <td>654</td>\n",
       "      <td>985</td>\n",
       "      <td>lunes</td>\n",
       "    </tr>\n",
       "    <tr>\n",
       "      <th>1</th>\n",
       "      <td>2018-01-02</td>\n",
       "      <td>invierno</td>\n",
       "      <td>0</td>\n",
       "      <td>1</td>\n",
       "      <td>No Festivo</td>\n",
       "      <td>14.902598</td>\n",
       "      <td>69.6087</td>\n",
       "      <td>16.652113</td>\n",
       "      <td>131</td>\n",
       "      <td>670</td>\n",
       "      <td>801</td>\n",
       "      <td>martes</td>\n",
       "    </tr>\n",
       "  </tbody>\n",
       "</table>\n",
       "</div>"
      ],
      "text/plain": [
       "        fecha  estacion  año  mes   dias_festivos  temperatura  humedad  \\\n",
       "0  2018-01-01  invierno    0    1  New Year's Day    14.110847  80.5833   \n",
       "1  2018-01-02  invierno    0    1      No Festivo    14.902598  69.6087   \n",
       "\n",
       "   velocidad_viento  clientes_casuales  clientes_registrados  total_bicis  \\\n",
       "0         10.749882                331                   654          985   \n",
       "1         16.652113                131                   670          801   \n",
       "\n",
       "  dia_semana  \n",
       "0      lunes  \n",
       "1     martes  "
      ]
     },
     "execution_count": 55,
     "metadata": {},
     "output_type": "execute_result"
    }
   ],
   "source": [
    "df1 = pd.read_csv(\"../archivos/bikes_eda.csv\", index_col = 0)\n",
    "df1.head(2)"
   ]
  },
  {
   "cell_type": "code",
   "execution_count": 56,
   "metadata": {},
   "outputs": [],
   "source": [
    "lista_columnas = [\"dia_semana\"]\n",
    "\n",
    "df1_encoded = pd.DataFrame()\n",
    "\n",
    "\n",
    "for columna in lista_columnas:\n",
    "    df1_dummies = pd.get_dummies(df1[columna], prefix_sep = \"_\", prefix = columna, dtype = int)\n",
    "\n",
    "    df1_encoded = pd.concat([df1_encoded, df1_dummies], axis = 1)"
   ]
  },
  {
   "cell_type": "code",
   "execution_count": 57,
   "metadata": {},
   "outputs": [
    {
     "data": {
      "text/html": [
       "<div>\n",
       "<style scoped>\n",
       "    .dataframe tbody tr th:only-of-type {\n",
       "        vertical-align: middle;\n",
       "    }\n",
       "\n",
       "    .dataframe tbody tr th {\n",
       "        vertical-align: top;\n",
       "    }\n",
       "\n",
       "    .dataframe thead th {\n",
       "        text-align: right;\n",
       "    }\n",
       "</style>\n",
       "<table border=\"1\" class=\"dataframe\">\n",
       "  <thead>\n",
       "    <tr style=\"text-align: right;\">\n",
       "      <th></th>\n",
       "      <th>dia_semana_domingo</th>\n",
       "      <th>dia_semana_jueves</th>\n",
       "      <th>dia_semana_lunes</th>\n",
       "      <th>dia_semana_martes</th>\n",
       "      <th>dia_semana_miercoles</th>\n",
       "      <th>dia_semana_sabado</th>\n",
       "      <th>dia_semana_viernes</th>\n",
       "    </tr>\n",
       "  </thead>\n",
       "  <tbody>\n",
       "    <tr>\n",
       "      <th>0</th>\n",
       "      <td>0</td>\n",
       "      <td>0</td>\n",
       "      <td>1</td>\n",
       "      <td>0</td>\n",
       "      <td>0</td>\n",
       "      <td>0</td>\n",
       "      <td>0</td>\n",
       "    </tr>\n",
       "    <tr>\n",
       "      <th>1</th>\n",
       "      <td>0</td>\n",
       "      <td>0</td>\n",
       "      <td>0</td>\n",
       "      <td>1</td>\n",
       "      <td>0</td>\n",
       "      <td>0</td>\n",
       "      <td>0</td>\n",
       "    </tr>\n",
       "  </tbody>\n",
       "</table>\n",
       "</div>"
      ],
      "text/plain": [
       "   dia_semana_domingo  dia_semana_jueves  dia_semana_lunes  dia_semana_martes  \\\n",
       "0                   0                  0                 1                  0   \n",
       "1                   0                  0                 0                  1   \n",
       "\n",
       "   dia_semana_miercoles  dia_semana_sabado  dia_semana_viernes  \n",
       "0                     0                  0                   0  \n",
       "1                     0                  0                   0  "
      ]
     },
     "execution_count": 57,
     "metadata": {},
     "output_type": "execute_result"
    }
   ],
   "source": [
    "df1_encoded.head(2)"
   ]
  },
  {
   "cell_type": "code",
   "execution_count": 58,
   "metadata": {},
   "outputs": [],
   "source": [
    "df1_codificado = pd.concat([df1, df1_encoded], axis=1)"
   ]
  },
  {
   "cell_type": "code",
   "execution_count": 59,
   "metadata": {},
   "outputs": [],
   "source": [
    "df1_codificado['estacion'] = df1_codificado['estacion'].map(mapa_estacion)\n",
    "df1_codificado['dias_festivos'] = df1_codificado['dias_festivos'].map(mapa_dias_festivos)"
   ]
  },
  {
   "cell_type": "code",
   "execution_count": 60,
   "metadata": {},
   "outputs": [],
   "source": [
    "df1_codificado.drop(['fecha', 'año', 'mes', 'dia_semana'], axis=1, inplace=True)"
   ]
  },
  {
   "cell_type": "code",
   "execution_count": 61,
   "metadata": {},
   "outputs": [
    {
     "data": {
      "text/html": [
       "<div>\n",
       "<style scoped>\n",
       "    .dataframe tbody tr th:only-of-type {\n",
       "        vertical-align: middle;\n",
       "    }\n",
       "\n",
       "    .dataframe tbody tr th {\n",
       "        vertical-align: top;\n",
       "    }\n",
       "\n",
       "    .dataframe thead th {\n",
       "        text-align: right;\n",
       "    }\n",
       "</style>\n",
       "<table border=\"1\" class=\"dataframe\">\n",
       "  <thead>\n",
       "    <tr style=\"text-align: right;\">\n",
       "      <th></th>\n",
       "      <th>estacion</th>\n",
       "      <th>dias_festivos</th>\n",
       "      <th>temperatura</th>\n",
       "      <th>humedad</th>\n",
       "      <th>velocidad_viento</th>\n",
       "      <th>clientes_casuales</th>\n",
       "      <th>clientes_registrados</th>\n",
       "      <th>total_bicis</th>\n",
       "      <th>dia_semana_domingo</th>\n",
       "      <th>dia_semana_jueves</th>\n",
       "      <th>dia_semana_lunes</th>\n",
       "      <th>dia_semana_martes</th>\n",
       "      <th>dia_semana_miercoles</th>\n",
       "      <th>dia_semana_sabado</th>\n",
       "      <th>dia_semana_viernes</th>\n",
       "    </tr>\n",
       "  </thead>\n",
       "  <tbody>\n",
       "    <tr>\n",
       "      <th>0</th>\n",
       "      <td>0</td>\n",
       "      <td>1</td>\n",
       "      <td>14.110847</td>\n",
       "      <td>80.5833</td>\n",
       "      <td>10.749882</td>\n",
       "      <td>331</td>\n",
       "      <td>654</td>\n",
       "      <td>985</td>\n",
       "      <td>0</td>\n",
       "      <td>0</td>\n",
       "      <td>1</td>\n",
       "      <td>0</td>\n",
       "      <td>0</td>\n",
       "      <td>0</td>\n",
       "      <td>0</td>\n",
       "    </tr>\n",
       "    <tr>\n",
       "      <th>1</th>\n",
       "      <td>0</td>\n",
       "      <td>0</td>\n",
       "      <td>14.902598</td>\n",
       "      <td>69.6087</td>\n",
       "      <td>16.652113</td>\n",
       "      <td>131</td>\n",
       "      <td>670</td>\n",
       "      <td>801</td>\n",
       "      <td>0</td>\n",
       "      <td>0</td>\n",
       "      <td>0</td>\n",
       "      <td>1</td>\n",
       "      <td>0</td>\n",
       "      <td>0</td>\n",
       "      <td>0</td>\n",
       "    </tr>\n",
       "    <tr>\n",
       "      <th>2</th>\n",
       "      <td>0</td>\n",
       "      <td>0</td>\n",
       "      <td>8.050924</td>\n",
       "      <td>43.7273</td>\n",
       "      <td>16.636703</td>\n",
       "      <td>120</td>\n",
       "      <td>1229</td>\n",
       "      <td>1349</td>\n",
       "      <td>0</td>\n",
       "      <td>0</td>\n",
       "      <td>0</td>\n",
       "      <td>0</td>\n",
       "      <td>1</td>\n",
       "      <td>0</td>\n",
       "      <td>0</td>\n",
       "    </tr>\n",
       "    <tr>\n",
       "      <th>3</th>\n",
       "      <td>0</td>\n",
       "      <td>0</td>\n",
       "      <td>8.200000</td>\n",
       "      <td>59.0435</td>\n",
       "      <td>10.739832</td>\n",
       "      <td>108</td>\n",
       "      <td>1454</td>\n",
       "      <td>1562</td>\n",
       "      <td>0</td>\n",
       "      <td>1</td>\n",
       "      <td>0</td>\n",
       "      <td>0</td>\n",
       "      <td>0</td>\n",
       "      <td>0</td>\n",
       "      <td>0</td>\n",
       "    </tr>\n",
       "    <tr>\n",
       "      <th>4</th>\n",
       "      <td>0</td>\n",
       "      <td>0</td>\n",
       "      <td>9.305237</td>\n",
       "      <td>43.6957</td>\n",
       "      <td>12.522300</td>\n",
       "      <td>82</td>\n",
       "      <td>1518</td>\n",
       "      <td>1600</td>\n",
       "      <td>0</td>\n",
       "      <td>0</td>\n",
       "      <td>0</td>\n",
       "      <td>0</td>\n",
       "      <td>0</td>\n",
       "      <td>0</td>\n",
       "      <td>1</td>\n",
       "    </tr>\n",
       "  </tbody>\n",
       "</table>\n",
       "</div>"
      ],
      "text/plain": [
       "   estacion  dias_festivos  temperatura  humedad  velocidad_viento  \\\n",
       "0         0              1    14.110847  80.5833         10.749882   \n",
       "1         0              0    14.902598  69.6087         16.652113   \n",
       "2         0              0     8.050924  43.7273         16.636703   \n",
       "3         0              0     8.200000  59.0435         10.739832   \n",
       "4         0              0     9.305237  43.6957         12.522300   \n",
       "\n",
       "   clientes_casuales  clientes_registrados  total_bicis  dia_semana_domingo  \\\n",
       "0                331                   654          985                   0   \n",
       "1                131                   670          801                   0   \n",
       "2                120                  1229         1349                   0   \n",
       "3                108                  1454         1562                   0   \n",
       "4                 82                  1518         1600                   0   \n",
       "\n",
       "   dia_semana_jueves  dia_semana_lunes  dia_semana_martes  \\\n",
       "0                  0                 1                  0   \n",
       "1                  0                 0                  1   \n",
       "2                  0                 0                  0   \n",
       "3                  1                 0                  0   \n",
       "4                  0                 0                  0   \n",
       "\n",
       "   dia_semana_miercoles  dia_semana_sabado  dia_semana_viernes  \n",
       "0                     0                  0                   0  \n",
       "1                     0                  0                   0  \n",
       "2                     1                  0                   0  \n",
       "3                     0                  0                   0  \n",
       "4                     0                  0                   1  "
      ]
     },
     "execution_count": 61,
     "metadata": {},
     "output_type": "execute_result"
    }
   ],
   "source": [
    "df1_codificado.head()"
   ]
  },
  {
   "cell_type": "code",
   "execution_count": 62,
   "metadata": {},
   "outputs": [],
   "source": [
    "df_codificado.to_csv('../archivos/cod_bikes.csv')"
   ]
  }
 ],
 "metadata": {
  "kernelspec": {
   "display_name": "Python 3",
   "language": "python",
   "name": "python3"
  },
  "language_info": {
   "codemirror_mode": {
    "name": "ipython",
    "version": 3
   },
   "file_extension": ".py",
   "mimetype": "text/x-python",
   "name": "python",
   "nbconvert_exporter": "python",
   "pygments_lexer": "ipython3",
   "version": "3.9.7"
  },
  "orig_nbformat": 4,
  "vscode": {
   "interpreter": {
    "hash": "235f9155b0abc8f1580e75acf7c6712d847a3598ded282a80a21bb1bc6aba73f"
   }
  }
 },
 "nbformat": 4,
 "nbformat_minor": 2
}
